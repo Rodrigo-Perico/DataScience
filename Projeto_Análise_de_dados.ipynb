{
  "cells": [
    {
      "cell_type": "markdown",
      "metadata": {
        "id": "view-in-github",
        "colab_type": "text"
      },
      "source": [
        "<a href=\"https://colab.research.google.com/github/Rodrigo-Perico/DataScience/blob/main/Projeto_Ana%CC%81lise_de_dados.ipynb\" target=\"_parent\"><img src=\"https://colab.research.google.com/assets/colab-badge.svg\" alt=\"Open In Colab\"/></a>"
      ]
    },
    {
      "cell_type": "markdown",
      "id": "motivated-olympus",
      "metadata": {
        "id": "motivated-olympus"
      },
      "source": [
        "# Projeto final\n",
        "\n",
        "Bem vindo ao projeto final do curso/módulo de Pandas.\n",
        "Neste projeto, você deve responder a um conjunto de perguntas feitas a dois conjuntos de dados:\n",
        "\n",
        "1. [Obesity among adults by country, 1975-2016](https://www.kaggle.com/amanarora/obesity-among-adults-by-country-19752016/)\n",
        "2. [GDP Per Person (1901-2011)](https://www.kaggle.com/divyansh22/gdp-per-person-19012011?select=GDP.csv)\n",
        "\n",
        "Tais conjuntos de dados são públicos foram publicados no Kaggle. Mais instruções sobre cada um deles podem ser encontrados nos links acima. Você também os encontrará na pasta `Datasets`, dentro de nossas apostilas."
      ]
    },
    {
      "cell_type": "code",
      "execution_count": null,
      "id": "million-survival",
      "metadata": {
        "id": "million-survival"
      },
      "outputs": [],
      "source": [
        "import pandas as pd\n",
        "import numpy as np"
      ]
    },
    {
      "cell_type": "markdown",
      "id": "becoming-princeton",
      "metadata": {
        "id": "becoming-princeton"
      },
      "source": [
        "## Perguntas - Obesity among adults by country, 1975-2016"
      ]
    },
    {
      "cell_type": "code",
      "execution_count": null,
      "id": "formal-heater",
      "metadata": {
        "id": "formal-heater"
      },
      "outputs": [],
      "source": [
        "df = pd.read_csv(\"obesity-cleaned.csv\")"
      ]
    },
    {
      "cell_type": "code",
      "source": [
        "df.sample(10)"
      ],
      "metadata": {
        "colab": {
          "base_uri": "https://localhost:8080/",
          "height": 363
        },
        "id": "F0B4dEZbbHK3",
        "outputId": "46a0b89b-b769-4d2d-8ac8-dd5c30834cda"
      },
      "id": "F0B4dEZbbHK3",
      "execution_count": null,
      "outputs": [
        {
          "output_type": "execute_result",
          "data": {
            "text/plain": [
              "       Unnamed: 0                           Country  Year       Obesity (%)  \\\n",
              "17511       17511                             Qatar  2016  35.1 [29.3-41.2]   \n",
              "4006         4006                            Canada  2008  24.7 [20.8-28.7]   \n",
              "893           893                           Armenia  1978   10.5 [5.7-16.9]   \n",
              "13553       13553                  Marshall Islands  1998  49.0 [41.3-56.8]   \n",
              "18553       18553  Saint Vincent and the Grenadines  1985     3.8 [1.7-7.0]   \n",
              "280           280                           Algeria  1984     4.5 [2.2-7.8]   \n",
              "13108       13108                          Maldives  1976     0.2 [0.1-0.6]   \n",
              "6437         6437                Dominican Republic  1978   10.8 [6.3-16.5]   \n",
              "16414       16414                             Palau  1986  29.3 [21.1-38.1]   \n",
              "1078         1078                         Australia  1998  18.8 [15.4-22.3]   \n",
              "\n",
              "              Sex  \n",
              "17511  Both sexes  \n",
              "4006         Male  \n",
              "893        Female  \n",
              "13553      Female  \n",
              "18553        Male  \n",
              "280          Male  \n",
              "13108        Male  \n",
              "6437       Female  \n",
              "16414        Male  \n",
              "1078         Male  "
            ],
            "text/html": [
              "\n",
              "  <div id=\"df-0088884c-1a4f-4d46-b872-95b739ab315c\" class=\"colab-df-container\">\n",
              "    <div>\n",
              "<style scoped>\n",
              "    .dataframe tbody tr th:only-of-type {\n",
              "        vertical-align: middle;\n",
              "    }\n",
              "\n",
              "    .dataframe tbody tr th {\n",
              "        vertical-align: top;\n",
              "    }\n",
              "\n",
              "    .dataframe thead th {\n",
              "        text-align: right;\n",
              "    }\n",
              "</style>\n",
              "<table border=\"1\" class=\"dataframe\">\n",
              "  <thead>\n",
              "    <tr style=\"text-align: right;\">\n",
              "      <th></th>\n",
              "      <th>Unnamed: 0</th>\n",
              "      <th>Country</th>\n",
              "      <th>Year</th>\n",
              "      <th>Obesity (%)</th>\n",
              "      <th>Sex</th>\n",
              "    </tr>\n",
              "  </thead>\n",
              "  <tbody>\n",
              "    <tr>\n",
              "      <th>17511</th>\n",
              "      <td>17511</td>\n",
              "      <td>Qatar</td>\n",
              "      <td>2016</td>\n",
              "      <td>35.1 [29.3-41.2]</td>\n",
              "      <td>Both sexes</td>\n",
              "    </tr>\n",
              "    <tr>\n",
              "      <th>4006</th>\n",
              "      <td>4006</td>\n",
              "      <td>Canada</td>\n",
              "      <td>2008</td>\n",
              "      <td>24.7 [20.8-28.7]</td>\n",
              "      <td>Male</td>\n",
              "    </tr>\n",
              "    <tr>\n",
              "      <th>893</th>\n",
              "      <td>893</td>\n",
              "      <td>Armenia</td>\n",
              "      <td>1978</td>\n",
              "      <td>10.5 [5.7-16.9]</td>\n",
              "      <td>Female</td>\n",
              "    </tr>\n",
              "    <tr>\n",
              "      <th>13553</th>\n",
              "      <td>13553</td>\n",
              "      <td>Marshall Islands</td>\n",
              "      <td>1998</td>\n",
              "      <td>49.0 [41.3-56.8]</td>\n",
              "      <td>Female</td>\n",
              "    </tr>\n",
              "    <tr>\n",
              "      <th>18553</th>\n",
              "      <td>18553</td>\n",
              "      <td>Saint Vincent and the Grenadines</td>\n",
              "      <td>1985</td>\n",
              "      <td>3.8 [1.7-7.0]</td>\n",
              "      <td>Male</td>\n",
              "    </tr>\n",
              "    <tr>\n",
              "      <th>280</th>\n",
              "      <td>280</td>\n",
              "      <td>Algeria</td>\n",
              "      <td>1984</td>\n",
              "      <td>4.5 [2.2-7.8]</td>\n",
              "      <td>Male</td>\n",
              "    </tr>\n",
              "    <tr>\n",
              "      <th>13108</th>\n",
              "      <td>13108</td>\n",
              "      <td>Maldives</td>\n",
              "      <td>1976</td>\n",
              "      <td>0.2 [0.1-0.6]</td>\n",
              "      <td>Male</td>\n",
              "    </tr>\n",
              "    <tr>\n",
              "      <th>6437</th>\n",
              "      <td>6437</td>\n",
              "      <td>Dominican Republic</td>\n",
              "      <td>1978</td>\n",
              "      <td>10.8 [6.3-16.5]</td>\n",
              "      <td>Female</td>\n",
              "    </tr>\n",
              "    <tr>\n",
              "      <th>16414</th>\n",
              "      <td>16414</td>\n",
              "      <td>Palau</td>\n",
              "      <td>1986</td>\n",
              "      <td>29.3 [21.1-38.1]</td>\n",
              "      <td>Male</td>\n",
              "    </tr>\n",
              "    <tr>\n",
              "      <th>1078</th>\n",
              "      <td>1078</td>\n",
              "      <td>Australia</td>\n",
              "      <td>1998</td>\n",
              "      <td>18.8 [15.4-22.3]</td>\n",
              "      <td>Male</td>\n",
              "    </tr>\n",
              "  </tbody>\n",
              "</table>\n",
              "</div>\n",
              "    <div class=\"colab-df-buttons\">\n",
              "\n",
              "  <div class=\"colab-df-container\">\n",
              "    <button class=\"colab-df-convert\" onclick=\"convertToInteractive('df-0088884c-1a4f-4d46-b872-95b739ab315c')\"\n",
              "            title=\"Convert this dataframe to an interactive table.\"\n",
              "            style=\"display:none;\">\n",
              "\n",
              "  <svg xmlns=\"http://www.w3.org/2000/svg\" height=\"24px\" viewBox=\"0 -960 960 960\">\n",
              "    <path d=\"M120-120v-720h720v720H120Zm60-500h600v-160H180v160Zm220 220h160v-160H400v160Zm0 220h160v-160H400v160ZM180-400h160v-160H180v160Zm440 0h160v-160H620v160ZM180-180h160v-160H180v160Zm440 0h160v-160H620v160Z\"/>\n",
              "  </svg>\n",
              "    </button>\n",
              "\n",
              "  <style>\n",
              "    .colab-df-container {\n",
              "      display:flex;\n",
              "      gap: 12px;\n",
              "    }\n",
              "\n",
              "    .colab-df-convert {\n",
              "      background-color: #E8F0FE;\n",
              "      border: none;\n",
              "      border-radius: 50%;\n",
              "      cursor: pointer;\n",
              "      display: none;\n",
              "      fill: #1967D2;\n",
              "      height: 32px;\n",
              "      padding: 0 0 0 0;\n",
              "      width: 32px;\n",
              "    }\n",
              "\n",
              "    .colab-df-convert:hover {\n",
              "      background-color: #E2EBFA;\n",
              "      box-shadow: 0px 1px 2px rgba(60, 64, 67, 0.3), 0px 1px 3px 1px rgba(60, 64, 67, 0.15);\n",
              "      fill: #174EA6;\n",
              "    }\n",
              "\n",
              "    .colab-df-buttons div {\n",
              "      margin-bottom: 4px;\n",
              "    }\n",
              "\n",
              "    [theme=dark] .colab-df-convert {\n",
              "      background-color: #3B4455;\n",
              "      fill: #D2E3FC;\n",
              "    }\n",
              "\n",
              "    [theme=dark] .colab-df-convert:hover {\n",
              "      background-color: #434B5C;\n",
              "      box-shadow: 0px 1px 3px 1px rgba(0, 0, 0, 0.15);\n",
              "      filter: drop-shadow(0px 1px 2px rgba(0, 0, 0, 0.3));\n",
              "      fill: #FFFFFF;\n",
              "    }\n",
              "  </style>\n",
              "\n",
              "    <script>\n",
              "      const buttonEl =\n",
              "        document.querySelector('#df-0088884c-1a4f-4d46-b872-95b739ab315c button.colab-df-convert');\n",
              "      buttonEl.style.display =\n",
              "        google.colab.kernel.accessAllowed ? 'block' : 'none';\n",
              "\n",
              "      async function convertToInteractive(key) {\n",
              "        const element = document.querySelector('#df-0088884c-1a4f-4d46-b872-95b739ab315c');\n",
              "        const dataTable =\n",
              "          await google.colab.kernel.invokeFunction('convertToInteractive',\n",
              "                                                    [key], {});\n",
              "        if (!dataTable) return;\n",
              "\n",
              "        const docLinkHtml = 'Like what you see? Visit the ' +\n",
              "          '<a target=\"_blank\" href=https://colab.research.google.com/notebooks/data_table.ipynb>data table notebook</a>'\n",
              "          + ' to learn more about interactive tables.';\n",
              "        element.innerHTML = '';\n",
              "        dataTable['output_type'] = 'display_data';\n",
              "        await google.colab.output.renderOutput(dataTable, element);\n",
              "        const docLink = document.createElement('div');\n",
              "        docLink.innerHTML = docLinkHtml;\n",
              "        element.appendChild(docLink);\n",
              "      }\n",
              "    </script>\n",
              "  </div>\n",
              "\n",
              "\n",
              "<div id=\"df-810ed7ce-8d27-4517-a2b1-84c252bc3173\">\n",
              "  <button class=\"colab-df-quickchart\" onclick=\"quickchart('df-810ed7ce-8d27-4517-a2b1-84c252bc3173')\"\n",
              "            title=\"Suggest charts\"\n",
              "            style=\"display:none;\">\n",
              "\n",
              "<svg xmlns=\"http://www.w3.org/2000/svg\" height=\"24px\"viewBox=\"0 0 24 24\"\n",
              "     width=\"24px\">\n",
              "    <g>\n",
              "        <path d=\"M19 3H5c-1.1 0-2 .9-2 2v14c0 1.1.9 2 2 2h14c1.1 0 2-.9 2-2V5c0-1.1-.9-2-2-2zM9 17H7v-7h2v7zm4 0h-2V7h2v10zm4 0h-2v-4h2v4z\"/>\n",
              "    </g>\n",
              "</svg>\n",
              "  </button>\n",
              "\n",
              "<style>\n",
              "  .colab-df-quickchart {\n",
              "      --bg-color: #E8F0FE;\n",
              "      --fill-color: #1967D2;\n",
              "      --hover-bg-color: #E2EBFA;\n",
              "      --hover-fill-color: #174EA6;\n",
              "      --disabled-fill-color: #AAA;\n",
              "      --disabled-bg-color: #DDD;\n",
              "  }\n",
              "\n",
              "  [theme=dark] .colab-df-quickchart {\n",
              "      --bg-color: #3B4455;\n",
              "      --fill-color: #D2E3FC;\n",
              "      --hover-bg-color: #434B5C;\n",
              "      --hover-fill-color: #FFFFFF;\n",
              "      --disabled-bg-color: #3B4455;\n",
              "      --disabled-fill-color: #666;\n",
              "  }\n",
              "\n",
              "  .colab-df-quickchart {\n",
              "    background-color: var(--bg-color);\n",
              "    border: none;\n",
              "    border-radius: 50%;\n",
              "    cursor: pointer;\n",
              "    display: none;\n",
              "    fill: var(--fill-color);\n",
              "    height: 32px;\n",
              "    padding: 0;\n",
              "    width: 32px;\n",
              "  }\n",
              "\n",
              "  .colab-df-quickchart:hover {\n",
              "    background-color: var(--hover-bg-color);\n",
              "    box-shadow: 0 1px 2px rgba(60, 64, 67, 0.3), 0 1px 3px 1px rgba(60, 64, 67, 0.15);\n",
              "    fill: var(--button-hover-fill-color);\n",
              "  }\n",
              "\n",
              "  .colab-df-quickchart-complete:disabled,\n",
              "  .colab-df-quickchart-complete:disabled:hover {\n",
              "    background-color: var(--disabled-bg-color);\n",
              "    fill: var(--disabled-fill-color);\n",
              "    box-shadow: none;\n",
              "  }\n",
              "\n",
              "  .colab-df-spinner {\n",
              "    border: 2px solid var(--fill-color);\n",
              "    border-color: transparent;\n",
              "    border-bottom-color: var(--fill-color);\n",
              "    animation:\n",
              "      spin 1s steps(1) infinite;\n",
              "  }\n",
              "\n",
              "  @keyframes spin {\n",
              "    0% {\n",
              "      border-color: transparent;\n",
              "      border-bottom-color: var(--fill-color);\n",
              "      border-left-color: var(--fill-color);\n",
              "    }\n",
              "    20% {\n",
              "      border-color: transparent;\n",
              "      border-left-color: var(--fill-color);\n",
              "      border-top-color: var(--fill-color);\n",
              "    }\n",
              "    30% {\n",
              "      border-color: transparent;\n",
              "      border-left-color: var(--fill-color);\n",
              "      border-top-color: var(--fill-color);\n",
              "      border-right-color: var(--fill-color);\n",
              "    }\n",
              "    40% {\n",
              "      border-color: transparent;\n",
              "      border-right-color: var(--fill-color);\n",
              "      border-top-color: var(--fill-color);\n",
              "    }\n",
              "    60% {\n",
              "      border-color: transparent;\n",
              "      border-right-color: var(--fill-color);\n",
              "    }\n",
              "    80% {\n",
              "      border-color: transparent;\n",
              "      border-right-color: var(--fill-color);\n",
              "      border-bottom-color: var(--fill-color);\n",
              "    }\n",
              "    90% {\n",
              "      border-color: transparent;\n",
              "      border-bottom-color: var(--fill-color);\n",
              "    }\n",
              "  }\n",
              "</style>\n",
              "\n",
              "  <script>\n",
              "    async function quickchart(key) {\n",
              "      const quickchartButtonEl =\n",
              "        document.querySelector('#' + key + ' button');\n",
              "      quickchartButtonEl.disabled = true;  // To prevent multiple clicks.\n",
              "      quickchartButtonEl.classList.add('colab-df-spinner');\n",
              "      try {\n",
              "        const charts = await google.colab.kernel.invokeFunction(\n",
              "            'suggestCharts', [key], {});\n",
              "      } catch (error) {\n",
              "        console.error('Error during call to suggestCharts:', error);\n",
              "      }\n",
              "      quickchartButtonEl.classList.remove('colab-df-spinner');\n",
              "      quickchartButtonEl.classList.add('colab-df-quickchart-complete');\n",
              "    }\n",
              "    (() => {\n",
              "      let quickchartButtonEl =\n",
              "        document.querySelector('#df-810ed7ce-8d27-4517-a2b1-84c252bc3173 button');\n",
              "      quickchartButtonEl.style.display =\n",
              "        google.colab.kernel.accessAllowed ? 'block' : 'none';\n",
              "    })();\n",
              "  </script>\n",
              "</div>\n",
              "\n",
              "    </div>\n",
              "  </div>\n"
            ],
            "application/vnd.google.colaboratory.intrinsic+json": {
              "type": "dataframe",
              "summary": "{\n  \"name\": \"df\",\n  \"rows\": 10,\n  \"fields\": [\n    {\n      \"column\": \"Unnamed: 0\",\n      \"properties\": {\n        \"dtype\": \"number\",\n        \"std\": 7393,\n        \"min\": 280,\n        \"max\": 18553,\n        \"num_unique_values\": 10,\n        \"samples\": [\n          16414,\n          4006,\n          280\n        ],\n        \"semantic_type\": \"\",\n        \"description\": \"\"\n      }\n    },\n    {\n      \"column\": \"Country\",\n      \"properties\": {\n        \"dtype\": \"string\",\n        \"num_unique_values\": 10,\n        \"samples\": [\n          \"Palau\",\n          \"Canada\",\n          \"Algeria\"\n        ],\n        \"semantic_type\": \"\",\n        \"description\": \"\"\n      }\n    },\n    {\n      \"column\": \"Year\",\n      \"properties\": {\n        \"dtype\": \"number\",\n        \"std\": 13,\n        \"min\": 1976,\n        \"max\": 2016,\n        \"num_unique_values\": 8,\n        \"samples\": [\n          2008,\n          1984,\n          2016\n        ],\n        \"semantic_type\": \"\",\n        \"description\": \"\"\n      }\n    },\n    {\n      \"column\": \"Obesity (%)\",\n      \"properties\": {\n        \"dtype\": \"string\",\n        \"num_unique_values\": 10,\n        \"samples\": [\n          \"29.3 [21.1-38.1]\",\n          \"24.7 [20.8-28.7]\",\n          \"4.5 [2.2-7.8]\"\n        ],\n        \"semantic_type\": \"\",\n        \"description\": \"\"\n      }\n    },\n    {\n      \"column\": \"Sex\",\n      \"properties\": {\n        \"dtype\": \"category\",\n        \"num_unique_values\": 3,\n        \"samples\": [\n          \"Both sexes\",\n          \"Male\",\n          \"Female\"\n        ],\n        \"semantic_type\": \"\",\n        \"description\": \"\"\n      }\n    }\n  ]\n}"
            }
          },
          "metadata": {},
          "execution_count": 5
        }
      ]
    },
    {
      "cell_type": "code",
      "source": [
        "df.info()"
      ],
      "metadata": {
        "colab": {
          "base_uri": "https://localhost:8080/"
        },
        "id": "lDKFThVTba9y",
        "outputId": "0c3bcb41-9adc-4943-cbf4-250945ec2bf6"
      },
      "id": "lDKFThVTba9y",
      "execution_count": null,
      "outputs": [
        {
          "output_type": "stream",
          "name": "stdout",
          "text": [
            "<class 'pandas.core.frame.DataFrame'>\n",
            "RangeIndex: 24570 entries, 0 to 24569\n",
            "Data columns (total 5 columns):\n",
            " #   Column       Non-Null Count  Dtype \n",
            "---  ------       --------------  ----- \n",
            " 0   Unnamed: 0   24570 non-null  int64 \n",
            " 1   Country      24570 non-null  object\n",
            " 2   Year         24570 non-null  int64 \n",
            " 3   Obesity (%)  24570 non-null  object\n",
            " 4   Sex          24570 non-null  object\n",
            "dtypes: int64(2), object(3)\n",
            "memory usage: 959.9+ KB\n"
          ]
        }
      ]
    },
    {
      "cell_type": "markdown",
      "id": "divine-rebel",
      "metadata": {
        "id": "divine-rebel"
      },
      "source": [
        "- Limpe os dados do DataFrame, criando uma coluna de nome 'Obesity' que conterá os valores de obesidade. Transforme em float as colunas que porventura foram importadas como string."
      ]
    },
    {
      "cell_type": "code",
      "execution_count": null,
      "id": "cubic-minneapolis",
      "metadata": {
        "id": "cubic-minneapolis"
      },
      "outputs": [],
      "source": [
        "df[\"Obesity\"] = df[\"Obesity (%)\"].str.split(' ').str[0]"
      ]
    },
    {
      "cell_type": "code",
      "source": [
        "df[\"Obesity\"] = pd.to_numeric(df[\"Obesity\"], errors='coerce')"
      ],
      "metadata": {
        "id": "4OXTG_6ZemZ6"
      },
      "id": "4OXTG_6ZemZ6",
      "execution_count": null,
      "outputs": []
    },
    {
      "cell_type": "code",
      "source": [
        "df.drop(columns=\"Obesity (%)\", inplace= True)"
      ],
      "metadata": {
        "id": "cuxMJKpJeEyu"
      },
      "id": "cuxMJKpJeEyu",
      "execution_count": null,
      "outputs": []
    },
    {
      "cell_type": "code",
      "source": [
        "df.info()"
      ],
      "metadata": {
        "colab": {
          "base_uri": "https://localhost:8080/"
        },
        "id": "7Xze-vpDcR2I",
        "outputId": "a26e37dc-160b-49b7-d041-e6c8f4a87142"
      },
      "id": "7Xze-vpDcR2I",
      "execution_count": null,
      "outputs": [
        {
          "output_type": "stream",
          "name": "stdout",
          "text": [
            "<class 'pandas.core.frame.DataFrame'>\n",
            "RangeIndex: 24570 entries, 0 to 24569\n",
            "Data columns (total 5 columns):\n",
            " #   Column      Non-Null Count  Dtype  \n",
            "---  ------      --------------  -----  \n",
            " 0   Unnamed: 0  24570 non-null  int64  \n",
            " 1   Country     24570 non-null  object \n",
            " 2   Year        24570 non-null  int64  \n",
            " 3   Sex         24570 non-null  object \n",
            " 4   Obesity     24066 non-null  float64\n",
            "dtypes: float64(1), int64(2), object(2)\n",
            "memory usage: 959.9+ KB\n"
          ]
        }
      ]
    },
    {
      "cell_type": "markdown",
      "id": "voluntary-temperature",
      "metadata": {
        "id": "voluntary-temperature"
      },
      "source": [
        "- Qual o percentual médio de obesidade por sexo no mundo no ano de 2015?"
      ]
    },
    {
      "cell_type": "code",
      "execution_count": null,
      "id": "afraid-reminder",
      "metadata": {
        "colab": {
          "base_uri": "https://localhost:8080/"
        },
        "id": "afraid-reminder",
        "outputId": "2ad6d996-d491-465f-bbf3-3636a9c4bb98"
      },
      "outputs": [
        {
          "output_type": "execute_result",
          "data": {
            "text/plain": [
              "19.46282722513089"
            ]
          },
          "metadata": {},
          "execution_count": 11
        }
      ],
      "source": [
        "df[df[\"Year\"] == 2015][\"Obesity\"].mean()"
      ]
    },
    {
      "cell_type": "markdown",
      "id": "expected-kruger",
      "metadata": {
        "id": "expected-kruger"
      },
      "source": [
        "- Quais são os 5 países com a maior e a menor taxa de aumento nos índices de obesidade no período observado?"
      ]
    },
    {
      "cell_type": "code",
      "execution_count": 33,
      "id": "phantom-going",
      "metadata": {
        "id": "phantom-going"
      },
      "outputs": [],
      "source": []
    },
    {
      "cell_type": "markdown",
      "id": "efficient-buyer",
      "metadata": {
        "id": "efficient-buyer"
      },
      "source": [
        "- Quais os países com maiores e menores níveis percetuais de obesidade em 2015?"
      ]
    },
    {
      "cell_type": "code",
      "execution_count": null,
      "id": "violent-warren",
      "metadata": {
        "colab": {
          "base_uri": "https://localhost:8080/",
          "height": 241
        },
        "id": "violent-warren",
        "outputId": "81bf6bb3-0638-4eb3-d966-286c2b3797ab"
      },
      "outputs": [
        {
          "output_type": "execute_result",
          "data": {
            "text/plain": [
              "Unnamed: 0       24187\n",
              "Country       Viet Nam\n",
              "Year              2015\n",
              "Sex               Male\n",
              "Obesity            1.5\n",
              "Name: 24187, dtype: object"
            ],
            "text/html": [
              "<div>\n",
              "<style scoped>\n",
              "    .dataframe tbody tr th:only-of-type {\n",
              "        vertical-align: middle;\n",
              "    }\n",
              "\n",
              "    .dataframe tbody tr th {\n",
              "        vertical-align: top;\n",
              "    }\n",
              "\n",
              "    .dataframe thead th {\n",
              "        text-align: right;\n",
              "    }\n",
              "</style>\n",
              "<table border=\"1\" class=\"dataframe\">\n",
              "  <thead>\n",
              "    <tr style=\"text-align: right;\">\n",
              "      <th></th>\n",
              "      <th>24187</th>\n",
              "    </tr>\n",
              "  </thead>\n",
              "  <tbody>\n",
              "    <tr>\n",
              "      <th>Unnamed: 0</th>\n",
              "      <td>24187</td>\n",
              "    </tr>\n",
              "    <tr>\n",
              "      <th>Country</th>\n",
              "      <td>Viet Nam</td>\n",
              "    </tr>\n",
              "    <tr>\n",
              "      <th>Year</th>\n",
              "      <td>2015</td>\n",
              "    </tr>\n",
              "    <tr>\n",
              "      <th>Sex</th>\n",
              "      <td>Male</td>\n",
              "    </tr>\n",
              "    <tr>\n",
              "      <th>Obesity</th>\n",
              "      <td>1.5</td>\n",
              "    </tr>\n",
              "  </tbody>\n",
              "</table>\n",
              "</div><br><label><b>dtype:</b> object</label>"
            ]
          },
          "metadata": {},
          "execution_count": 31
        }
      ],
      "source": [
        "df2015 = df[df[\"Year\"] ==  2015]\n",
        "\n",
        "menor_obesidade = df2015.loc[df2015['Obesity'].idxmin()]\n",
        "\n",
        "menor_obesidade\n"
      ]
    },
    {
      "cell_type": "code",
      "source": [
        "df2015 = df[df[\"Year\"] == 2015]\n",
        "\n",
        "maior_obesidade = df2015.loc[df2015[\"Obesity\"].idxmax()]\n",
        "\n",
        "maior_obesidade"
      ],
      "metadata": {
        "colab": {
          "base_uri": "https://localhost:8080/",
          "height": 241
        },
        "id": "u2mvGgpOzLpA",
        "outputId": "cd84b7b1-04d6-423f-cf1e-1fb8bec74211"
      },
      "id": "u2mvGgpOzLpA",
      "execution_count": null,
      "outputs": [
        {
          "output_type": "execute_result",
          "data": {
            "text/plain": [
              "Unnamed: 0     15116\n",
              "Country        Nauru\n",
              "Year            2015\n",
              "Sex           Female\n",
              "Obesity         63.1\n",
              "Name: 15116, dtype: object"
            ],
            "text/html": [
              "<div>\n",
              "<style scoped>\n",
              "    .dataframe tbody tr th:only-of-type {\n",
              "        vertical-align: middle;\n",
              "    }\n",
              "\n",
              "    .dataframe tbody tr th {\n",
              "        vertical-align: top;\n",
              "    }\n",
              "\n",
              "    .dataframe thead th {\n",
              "        text-align: right;\n",
              "    }\n",
              "</style>\n",
              "<table border=\"1\" class=\"dataframe\">\n",
              "  <thead>\n",
              "    <tr style=\"text-align: right;\">\n",
              "      <th></th>\n",
              "      <th>15116</th>\n",
              "    </tr>\n",
              "  </thead>\n",
              "  <tbody>\n",
              "    <tr>\n",
              "      <th>Unnamed: 0</th>\n",
              "      <td>15116</td>\n",
              "    </tr>\n",
              "    <tr>\n",
              "      <th>Country</th>\n",
              "      <td>Nauru</td>\n",
              "    </tr>\n",
              "    <tr>\n",
              "      <th>Year</th>\n",
              "      <td>2015</td>\n",
              "    </tr>\n",
              "    <tr>\n",
              "      <th>Sex</th>\n",
              "      <td>Female</td>\n",
              "    </tr>\n",
              "    <tr>\n",
              "      <th>Obesity</th>\n",
              "      <td>63.1</td>\n",
              "    </tr>\n",
              "  </tbody>\n",
              "</table>\n",
              "</div><br><label><b>dtype:</b> object</label>"
            ]
          },
          "metadata": {},
          "execution_count": 33
        }
      ]
    },
    {
      "cell_type": "markdown",
      "id": "average-holiday",
      "metadata": {
        "id": "average-holiday"
      },
      "source": [
        "- Qual a diferença média percentual de obesidade entre sexos ao longo dos anos para o Brasil?"
      ]
    },
    {
      "cell_type": "code",
      "execution_count": null,
      "id": "later-occurrence",
      "metadata": {
        "id": "later-occurrence"
      },
      "outputs": [],
      "source": []
    },
    {
      "cell_type": "markdown",
      "id": "rising-exhaust",
      "metadata": {
        "id": "rising-exhaust"
      },
      "source": [
        "- Você conseguiria plotar um gráfico mostrando a evolução da obesidade para ambos sexos no mundo?"
      ]
    },
    {
      "cell_type": "code",
      "execution_count": null,
      "id": "senior-recruitment",
      "metadata": {
        "id": "senior-recruitment"
      },
      "outputs": [],
      "source": []
    },
    {
      "cell_type": "markdown",
      "id": "labeled-rainbow",
      "metadata": {
        "id": "labeled-rainbow"
      },
      "source": [
        "## Perguntas - GDP Per Person (1901-2011)"
      ]
    },
    {
      "cell_type": "code",
      "execution_count": null,
      "id": "thermal-breeding",
      "metadata": {
        "id": "thermal-breeding"
      },
      "outputs": [],
      "source": [
        "df= pd.read_csv(\"GDP.csv\", decimal=\".\")"
      ]
    },
    {
      "cell_type": "code",
      "source": [
        "df.sample(10)"
      ],
      "metadata": {
        "colab": {
          "base_uri": "https://localhost:8080/",
          "height": 141
        },
        "id": "5iMwVur2wzPV",
        "outputId": "24406dbc-d6f3-4cb7-95d4-0b5823731565"
      },
      "id": "5iMwVur2wzPV",
      "execution_count": null,
      "outputs": [
        {
          "output_type": "error",
          "ename": "NameError",
          "evalue": "name 'df' is not defined",
          "traceback": [
            "\u001b[0;31m---------------------------------------------------------------------------\u001b[0m",
            "\u001b[0;31mNameError\u001b[0m                                 Traceback (most recent call last)",
            "\u001b[0;32m<ipython-input-2-17bfc97c9424>\u001b[0m in \u001b[0;36m<cell line: 1>\u001b[0;34m()\u001b[0m\n\u001b[0;32m----> 1\u001b[0;31m \u001b[0mdf\u001b[0m\u001b[0;34m.\u001b[0m\u001b[0msample\u001b[0m\u001b[0;34m(\u001b[0m\u001b[0;36m10\u001b[0m\u001b[0;34m)\u001b[0m\u001b[0;34m\u001b[0m\u001b[0;34m\u001b[0m\u001b[0m\n\u001b[0m",
            "\u001b[0;31mNameError\u001b[0m: name 'df' is not defined"
          ]
        }
      ]
    },
    {
      "cell_type": "markdown",
      "id": "suffering-guitar",
      "metadata": {
        "id": "suffering-guitar"
      },
      "source": [
        "- Limpe o conjunto de dados, convertendo strings em datas ou float, quando necessário."
      ]
    },
    {
      "cell_type": "code",
      "execution_count": null,
      "id": "fundamental-occasions",
      "metadata": {
        "id": "fundamental-occasions"
      },
      "outputs": [],
      "source": [
        "df[\"Year\"] = pd.to_datetime(df[\"Year\"])"
      ]
    },
    {
      "cell_type": "code",
      "source": [
        "df[\"GD\"]"
      ],
      "metadata": {
        "id": "_oZIvw0-xVGi"
      },
      "id": "_oZIvw0-xVGi",
      "execution_count": null,
      "outputs": []
    },
    {
      "cell_type": "code",
      "source": [
        "df.sample(5)"
      ],
      "metadata": {
        "id": "mUFO03EDw3V8"
      },
      "id": "mUFO03EDw3V8",
      "execution_count": null,
      "outputs": []
    },
    {
      "cell_type": "markdown",
      "id": "studied-validity",
      "metadata": {
        "id": "studied-validity"
      },
      "source": [
        "- Você conseguiria informar o primeiro valor registrado de cada país?"
      ]
    },
    {
      "cell_type": "code",
      "execution_count": null,
      "id": "frequent-rental",
      "metadata": {
        "id": "frequent-rental"
      },
      "outputs": [],
      "source": []
    },
    {
      "cell_type": "markdown",
      "id": "tutorial-softball",
      "metadata": {
        "id": "tutorial-softball"
      },
      "source": [
        "- Informe as regiões com maiores crescimentos de PIB per capita no século passado."
      ]
    },
    {
      "cell_type": "code",
      "execution_count": null,
      "id": "given-colorado",
      "metadata": {
        "id": "given-colorado"
      },
      "outputs": [],
      "source": []
    },
    {
      "cell_type": "markdown",
      "id": "textile-afternoon",
      "metadata": {
        "id": "textile-afternoon"
      },
      "source": [
        "- Preecha os anos ausentes em cada país com uma estimativa, baseada na diferença entre o próximo registro e o anterior."
      ]
    },
    {
      "cell_type": "code",
      "execution_count": null,
      "id": "hydraulic-confidentiality",
      "metadata": {
        "id": "hydraulic-confidentiality",
        "colab": {
          "base_uri": "https://localhost:8080/",
          "height": 141
        },
        "outputId": "8d8dc35e-3a20-471a-adb5-fe1896102b3d"
      },
      "outputs": [
        {
          "output_type": "error",
          "ename": "NameError",
          "evalue": "name 'df' is not defined",
          "traceback": [
            "\u001b[0;31m---------------------------------------------------------------------------\u001b[0m",
            "\u001b[0;31mNameError\u001b[0m                                 Traceback (most recent call last)",
            "\u001b[0;32m<ipython-input-3-cc81fd27034f>\u001b[0m in \u001b[0;36m<cell line: 1>\u001b[0;34m()\u001b[0m\n\u001b[0;32m----> 1\u001b[0;31m \u001b[0mdf\u001b[0m\u001b[0;34m.\u001b[0m\u001b[0misnull\u001b[0m\u001b[0;34m(\u001b[0m\u001b[0;34m)\u001b[0m\u001b[0;34m\u001b[0m\u001b[0;34m\u001b[0m\u001b[0m\n\u001b[0m",
            "\u001b[0;31mNameError\u001b[0m: name 'df' is not defined"
          ]
        }
      ],
      "source": [
        "df.isnull()"
      ]
    },
    {
      "cell_type": "markdown",
      "id": "revised-helicopter",
      "metadata": {
        "id": "revised-helicopter"
      },
      "source": [
        "### DESAFIOS\n",
        "- Você conseguiria criar um mapa do gdp ou da obesidade no mundo ao longo dos anos?"
      ]
    },
    {
      "cell_type": "code",
      "execution_count": null,
      "id": "advised-sample",
      "metadata": {
        "id": "advised-sample"
      },
      "outputs": [],
      "source": []
    },
    {
      "cell_type": "markdown",
      "id": "lesbian-flight",
      "metadata": {
        "id": "lesbian-flight"
      },
      "source": [
        "- Há uma relação entre níveis de obesidade e gdp per capita?"
      ]
    },
    {
      "cell_type": "code",
      "execution_count": null,
      "id": "fluid-enemy",
      "metadata": {
        "id": "fluid-enemy"
      },
      "outputs": [],
      "source": [
        "."
      ]
    }
  ],
  "metadata": {
    "kernelspec": {
      "display_name": "Python 3",
      "language": "python",
      "name": "python3"
    },
    "language_info": {
      "codemirror_mode": {
        "name": "ipython",
        "version": 3
      },
      "file_extension": ".py",
      "mimetype": "text/x-python",
      "name": "python",
      "nbconvert_exporter": "python",
      "pygments_lexer": "ipython3",
      "version": "3.9.12"
    },
    "colab": {
      "provenance": [],
      "include_colab_link": true
    }
  },
  "nbformat": 4,
  "nbformat_minor": 5
}