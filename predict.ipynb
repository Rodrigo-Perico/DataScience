{
  "nbformat": 4,
  "nbformat_minor": 0,
  "metadata": {
    "colab": {
      "provenance": [],
      "authorship_tag": "ABX9TyMiO+JAIcRx3KpcMCnzblkn",
      "include_colab_link": true
    },
    "kernelspec": {
      "name": "python3",
      "display_name": "Python 3"
    },
    "language_info": {
      "name": "python"
    }
  },
  "cells": [
    {
      "cell_type": "markdown",
      "metadata": {
        "id": "view-in-github",
        "colab_type": "text"
      },
      "source": [
        "<a href=\"https://colab.research.google.com/github/Rodrigo-Perico/DataScience/blob/main/predict.ipynb\" target=\"_parent\"><img src=\"https://colab.research.google.com/assets/colab-badge.svg\" alt=\"Open In Colab\"/></a>"
      ]
    },
    {
      "cell_type": "code",
      "execution_count": 10,
      "metadata": {
        "id": "z2xjT26Q-Gnv"
      },
      "outputs": [],
      "source": [
        "import sklearn\n",
        "import pandas as pd\n",
        "from sklearn.preprocessing import OrdinalEncoder"
      ]
    },
    {
      "cell_type": "code",
      "source": [
        "import kagglehub\n",
        "import pandas as pd\n",
        "import os\n",
        "\n",
        "path = kagglehub.dataset_download(\"renatosn/sao-paulo-housing-prices\")\n",
        "\n",
        "files = os.listdir(path)\n",
        "print(\"Arquivos no dataset:\", files)\n",
        "\n",
        "csv_file = [f for f in files if f.endswith(\".csv\")][0]\n",
        "csv_path = os.path.join(path, csv_file)\n",
        "\n",
        "df = pd.read_csv(csv_path)\n",
        "\n",
        "print(df.head())\n"
      ],
      "metadata": {
        "colab": {
          "base_uri": "https://localhost:8080/"
        },
        "id": "1YDjy__7-OiU",
        "outputId": "7b342146-9a5f-4076-81a5-9d15ba6edb19"
      },
      "execution_count": 38,
      "outputs": [
        {
          "output_type": "stream",
          "name": "stdout",
          "text": [
            "Warning: Looks like you're using an outdated `kagglehub` version (installed: 0.3.5), please consider upgrading to the latest version (0.3.6).\n",
            "Arquivos no dataset: ['data.csv']\n",
            "              address      district  area  bedrooms  garage  \\\n",
            "0          Rua Herval    Belenzinho    21         1       0   \n",
            "1  Avenida São Miguel  Vila Marieta    15         1       1   \n",
            "2    Rua Oscar Freire     Pinheiros    18         1       0   \n",
            "3    Rua Júlio Sayago       Vila Ré    56         2       2   \n",
            "4  Rua Barata Ribeiro    Bela Vista    19         1       0   \n",
            "\n",
            "                 type  rent  total  \n",
            "0     Studio e kitnet  2400   2939  \n",
            "1     Studio e kitnet  1030   1345  \n",
            "2         Apartamento  4000   4661  \n",
            "3  Casa em condomínio  1750   1954  \n",
            "4     Studio e kitnet  4000   4654  \n"
          ]
        }
      ]
    },
    {
      "cell_type": "code",
      "source": [
        "ordinal_encoder = OrdinalEncoder()\n",
        "adrress_encoder = ordinal_encoder.fit_transform([df[\"address\"]])"
      ],
      "metadata": {
        "id": "LN5UtNZ5-9ul"
      },
      "execution_count": 39,
      "outputs": []
    },
    {
      "cell_type": "code",
      "source": [
        "adrress_encoder"
      ],
      "metadata": {
        "colab": {
          "base_uri": "https://localhost:8080/"
        },
        "id": "eogCDJ2mAiEP",
        "outputId": "683a2d2d-fd96-467c-a862-b8eeb8722b9f"
      },
      "execution_count": 40,
      "outputs": [
        {
          "output_type": "execute_result",
          "data": {
            "text/plain": [
              "array([[0., 0., 0., ..., 0., 0., 0.]])"
            ]
          },
          "metadata": {},
          "execution_count": 40
        }
      ]
    },
    {
      "cell_type": "code",
      "source": [
        "from sklearn.preprocessing import OneHotEncoder\n"
      ],
      "metadata": {
        "id": "AvilwmMyCRC1"
      },
      "execution_count": 41,
      "outputs": []
    },
    {
      "cell_type": "code",
      "source": [
        "onehotencoder = OneHotEncoder()\n",
        "\n",
        "data_transf = onehotencoder.fit_transform([df[\"area\"]])"
      ],
      "metadata": {
        "id": "XOQV-EGUCWmg"
      },
      "execution_count": 42,
      "outputs": []
    },
    {
      "cell_type": "code",
      "source": [
        "data_transf.toarray()"
      ],
      "metadata": {
        "colab": {
          "base_uri": "https://localhost:8080/"
        },
        "id": "ZF3hLtqCCoui",
        "outputId": "cdfeefcb-f844-49bf-c76f-89712b809dd5"
      },
      "execution_count": 43,
      "outputs": [
        {
          "output_type": "execute_result",
          "data": {
            "text/plain": [
              "array([[1., 1., 1., ..., 1., 1., 1.]])"
            ]
          },
          "metadata": {},
          "execution_count": 43
        }
      ]
    }
  ]
}