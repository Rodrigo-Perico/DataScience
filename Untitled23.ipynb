{
  "nbformat": 4,
  "nbformat_minor": 0,
  "metadata": {
    "colab": {
      "provenance": [],
      "authorship_tag": "ABX9TyPX0Hey3BLnbZUlDiskfX4Q",
      "include_colab_link": true
    },
    "kernelspec": {
      "name": "python3",
      "display_name": "Python 3"
    },
    "language_info": {
      "name": "python"
    }
  },
  "cells": [
    {
      "cell_type": "markdown",
      "metadata": {
        "id": "view-in-github",
        "colab_type": "text"
      },
      "source": [
        "<a href=\"https://colab.research.google.com/github/Rodrigo-Perico/DataScience/blob/main/Untitled23.ipynb\" target=\"_parent\"><img src=\"https://colab.research.google.com/assets/colab-badge.svg\" alt=\"Open In Colab\"/></a>"
      ]
    },
    {
      "cell_type": "code",
      "execution_count": null,
      "metadata": {
        "id": "_x9o-EIJfuqL"
      },
      "outputs": [],
      "source": [
        "df[df['coluna2'] == 444][\"coluna1\"].sum()"
      ]
    },
    {
      "cell_type": "code",
      "source": [
        "def funct(valor):\n",
        "  if valor == 'one':\n",
        "    return 1\n",
        "  elif valor == 'two':\n",
        "    return 2"
      ],
      "metadata": {
        "id": "PLwmGuuMn68W"
      },
      "execution_count": null,
      "outputs": []
    },
    {
      "cell_type": "code",
      "source": [
        "df['E'] = df[\"B\"].apply(funct)"
      ],
      "metadata": {
        "id": "Eo3-WyHlnlDa"
      },
      "execution_count": null,
      "outputs": []
    }
  ]
}